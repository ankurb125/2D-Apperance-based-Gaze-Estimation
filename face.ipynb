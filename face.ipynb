{
 "cells": [
  {
   "cell_type": "code",
   "execution_count": 2,
   "id": "bb414339",
   "metadata": {},
   "outputs": [],
   "source": [
    "import glob\n",
    "import cv2\n",
    "import os"
   ]
  },
  {
   "cell_type": "code",
   "execution_count": 18,
   "id": "4e1e068c",
   "metadata": {
    "scrolled": true
   },
   "outputs": [
    {
     "data": {
      "text/plain": [
       "['C:\\\\Users\\\\ankur\\\\OneDrive\\\\Desktop\\\\image data\\\\P11\\\\1.png',\n",
       " 'C:\\\\Users\\\\ankur\\\\OneDrive\\\\Desktop\\\\image data\\\\P11\\\\10.png',\n",
       " 'C:\\\\Users\\\\ankur\\\\OneDrive\\\\Desktop\\\\image data\\\\P11\\\\11.png',\n",
       " 'C:\\\\Users\\\\ankur\\\\OneDrive\\\\Desktop\\\\image data\\\\P11\\\\12.png',\n",
       " 'C:\\\\Users\\\\ankur\\\\OneDrive\\\\Desktop\\\\image data\\\\P11\\\\13.png',\n",
       " 'C:\\\\Users\\\\ankur\\\\OneDrive\\\\Desktop\\\\image data\\\\P11\\\\14.png',\n",
       " 'C:\\\\Users\\\\ankur\\\\OneDrive\\\\Desktop\\\\image data\\\\P11\\\\15.png',\n",
       " 'C:\\\\Users\\\\ankur\\\\OneDrive\\\\Desktop\\\\image data\\\\P11\\\\16.png',\n",
       " 'C:\\\\Users\\\\ankur\\\\OneDrive\\\\Desktop\\\\image data\\\\P11\\\\17.png',\n",
       " 'C:\\\\Users\\\\ankur\\\\OneDrive\\\\Desktop\\\\image data\\\\P11\\\\18.png',\n",
       " 'C:\\\\Users\\\\ankur\\\\OneDrive\\\\Desktop\\\\image data\\\\P11\\\\19.png',\n",
       " 'C:\\\\Users\\\\ankur\\\\OneDrive\\\\Desktop\\\\image data\\\\P11\\\\2.png',\n",
       " 'C:\\\\Users\\\\ankur\\\\OneDrive\\\\Desktop\\\\image data\\\\P11\\\\20.png',\n",
       " 'C:\\\\Users\\\\ankur\\\\OneDrive\\\\Desktop\\\\image data\\\\P11\\\\21.png',\n",
       " 'C:\\\\Users\\\\ankur\\\\OneDrive\\\\Desktop\\\\image data\\\\P11\\\\22.png',\n",
       " 'C:\\\\Users\\\\ankur\\\\OneDrive\\\\Desktop\\\\image data\\\\P11\\\\23.png',\n",
       " 'C:\\\\Users\\\\ankur\\\\OneDrive\\\\Desktop\\\\image data\\\\P11\\\\24.png',\n",
       " 'C:\\\\Users\\\\ankur\\\\OneDrive\\\\Desktop\\\\image data\\\\P11\\\\25.png',\n",
       " 'C:\\\\Users\\\\ankur\\\\OneDrive\\\\Desktop\\\\image data\\\\P11\\\\26.png',\n",
       " 'C:\\\\Users\\\\ankur\\\\OneDrive\\\\Desktop\\\\image data\\\\P11\\\\27.png',\n",
       " 'C:\\\\Users\\\\ankur\\\\OneDrive\\\\Desktop\\\\image data\\\\P11\\\\28.png',\n",
       " 'C:\\\\Users\\\\ankur\\\\OneDrive\\\\Desktop\\\\image data\\\\P11\\\\29.png',\n",
       " 'C:\\\\Users\\\\ankur\\\\OneDrive\\\\Desktop\\\\image data\\\\P11\\\\3.png',\n",
       " 'C:\\\\Users\\\\ankur\\\\OneDrive\\\\Desktop\\\\image data\\\\P11\\\\30.png',\n",
       " 'C:\\\\Users\\\\ankur\\\\OneDrive\\\\Desktop\\\\image data\\\\P11\\\\31.png',\n",
       " 'C:\\\\Users\\\\ankur\\\\OneDrive\\\\Desktop\\\\image data\\\\P11\\\\32.png',\n",
       " 'C:\\\\Users\\\\ankur\\\\OneDrive\\\\Desktop\\\\image data\\\\P11\\\\33.png',\n",
       " 'C:\\\\Users\\\\ankur\\\\OneDrive\\\\Desktop\\\\image data\\\\P11\\\\34.png',\n",
       " 'C:\\\\Users\\\\ankur\\\\OneDrive\\\\Desktop\\\\image data\\\\P11\\\\35.png',\n",
       " 'C:\\\\Users\\\\ankur\\\\OneDrive\\\\Desktop\\\\image data\\\\P11\\\\36.png',\n",
       " 'C:\\\\Users\\\\ankur\\\\OneDrive\\\\Desktop\\\\image data\\\\P11\\\\37.png',\n",
       " 'C:\\\\Users\\\\ankur\\\\OneDrive\\\\Desktop\\\\image data\\\\P11\\\\38.png',\n",
       " 'C:\\\\Users\\\\ankur\\\\OneDrive\\\\Desktop\\\\image data\\\\P11\\\\39.png',\n",
       " 'C:\\\\Users\\\\ankur\\\\OneDrive\\\\Desktop\\\\image data\\\\P11\\\\4.png',\n",
       " 'C:\\\\Users\\\\ankur\\\\OneDrive\\\\Desktop\\\\image data\\\\P11\\\\40.png',\n",
       " 'C:\\\\Users\\\\ankur\\\\OneDrive\\\\Desktop\\\\image data\\\\P11\\\\41.png',\n",
       " 'C:\\\\Users\\\\ankur\\\\OneDrive\\\\Desktop\\\\image data\\\\P11\\\\42.png',\n",
       " 'C:\\\\Users\\\\ankur\\\\OneDrive\\\\Desktop\\\\image data\\\\P11\\\\43.png',\n",
       " 'C:\\\\Users\\\\ankur\\\\OneDrive\\\\Desktop\\\\image data\\\\P11\\\\44.png',\n",
       " 'C:\\\\Users\\\\ankur\\\\OneDrive\\\\Desktop\\\\image data\\\\P11\\\\45.png',\n",
       " 'C:\\\\Users\\\\ankur\\\\OneDrive\\\\Desktop\\\\image data\\\\P11\\\\46.png',\n",
       " 'C:\\\\Users\\\\ankur\\\\OneDrive\\\\Desktop\\\\image data\\\\P11\\\\47.png',\n",
       " 'C:\\\\Users\\\\ankur\\\\OneDrive\\\\Desktop\\\\image data\\\\P11\\\\48.png',\n",
       " 'C:\\\\Users\\\\ankur\\\\OneDrive\\\\Desktop\\\\image data\\\\P11\\\\49.png',\n",
       " 'C:\\\\Users\\\\ankur\\\\OneDrive\\\\Desktop\\\\image data\\\\P11\\\\5.png',\n",
       " 'C:\\\\Users\\\\ankur\\\\OneDrive\\\\Desktop\\\\image data\\\\P11\\\\50.png',\n",
       " 'C:\\\\Users\\\\ankur\\\\OneDrive\\\\Desktop\\\\image data\\\\P11\\\\6.png',\n",
       " 'C:\\\\Users\\\\ankur\\\\OneDrive\\\\Desktop\\\\image data\\\\P11\\\\7.png',\n",
       " 'C:\\\\Users\\\\ankur\\\\OneDrive\\\\Desktop\\\\image data\\\\P11\\\\8.png',\n",
       " 'C:\\\\Users\\\\ankur\\\\OneDrive\\\\Desktop\\\\image data\\\\P11\\\\9.png']"
      ]
     },
     "execution_count": 18,
     "metadata": {},
     "output_type": "execute_result"
    }
   ],
   "source": [
    "path = sorted(glob.glob(r'C:\\Users\\ankur\\OneDrive\\Desktop\\image data\\P11\\*.png'))\n",
    "# path = [path]\n",
    "path"
   ]
  },
  {
   "cell_type": "code",
   "execution_count": 19,
   "id": "07ba70a1",
   "metadata": {
    "scrolled": true
   },
   "outputs": [
    {
     "name": "stdout",
     "output_type": "stream",
     "text": [
      "C:\\Users\\ankur\\OneDrive\\Desktop\\image data\\P11\\1.png\n",
      "C:\\Users\\ankur\\OneDrive\\Desktop\\image data\\P11\\10.png\n",
      "C:\\Users\\ankur\\OneDrive\\Desktop\\image data\\P11\\11.png\n",
      "C:\\Users\\ankur\\OneDrive\\Desktop\\image data\\P11\\12.png\n",
      "C:\\Users\\ankur\\OneDrive\\Desktop\\image data\\P11\\13.png\n",
      "C:\\Users\\ankur\\OneDrive\\Desktop\\image data\\P11\\14.png\n",
      "C:\\Users\\ankur\\OneDrive\\Desktop\\image data\\P11\\15.png\n",
      "C:\\Users\\ankur\\OneDrive\\Desktop\\image data\\P11\\16.png\n",
      "C:\\Users\\ankur\\OneDrive\\Desktop\\image data\\P11\\17.png\n",
      "C:\\Users\\ankur\\OneDrive\\Desktop\\image data\\P11\\18.png\n",
      "C:\\Users\\ankur\\OneDrive\\Desktop\\image data\\P11\\19.png\n",
      "C:\\Users\\ankur\\OneDrive\\Desktop\\image data\\P11\\2.png\n",
      "C:\\Users\\ankur\\OneDrive\\Desktop\\image data\\P11\\20.png\n",
      "C:\\Users\\ankur\\OneDrive\\Desktop\\image data\\P11\\21.png\n",
      "C:\\Users\\ankur\\OneDrive\\Desktop\\image data\\P11\\22.png\n",
      "C:\\Users\\ankur\\OneDrive\\Desktop\\image data\\P11\\23.png\n",
      "C:\\Users\\ankur\\OneDrive\\Desktop\\image data\\P11\\24.png\n",
      "C:\\Users\\ankur\\OneDrive\\Desktop\\image data\\P11\\25.png\n",
      "C:\\Users\\ankur\\OneDrive\\Desktop\\image data\\P11\\26.png\n",
      "C:\\Users\\ankur\\OneDrive\\Desktop\\image data\\P11\\27.png\n",
      "C:\\Users\\ankur\\OneDrive\\Desktop\\image data\\P11\\28.png\n",
      "C:\\Users\\ankur\\OneDrive\\Desktop\\image data\\P11\\29.png\n",
      "C:\\Users\\ankur\\OneDrive\\Desktop\\image data\\P11\\3.png\n",
      "C:\\Users\\ankur\\OneDrive\\Desktop\\image data\\P11\\30.png\n",
      "C:\\Users\\ankur\\OneDrive\\Desktop\\image data\\P11\\31.png\n",
      "C:\\Users\\ankur\\OneDrive\\Desktop\\image data\\P11\\32.png\n",
      "C:\\Users\\ankur\\OneDrive\\Desktop\\image data\\P11\\33.png\n",
      "C:\\Users\\ankur\\OneDrive\\Desktop\\image data\\P11\\34.png\n",
      "C:\\Users\\ankur\\OneDrive\\Desktop\\image data\\P11\\35.png\n",
      "C:\\Users\\ankur\\OneDrive\\Desktop\\image data\\P11\\36.png\n",
      "C:\\Users\\ankur\\OneDrive\\Desktop\\image data\\P11\\37.png\n",
      "C:\\Users\\ankur\\OneDrive\\Desktop\\image data\\P11\\38.png\n",
      "C:\\Users\\ankur\\OneDrive\\Desktop\\image data\\P11\\39.png\n",
      "C:\\Users\\ankur\\OneDrive\\Desktop\\image data\\P11\\4.png\n",
      "C:\\Users\\ankur\\OneDrive\\Desktop\\image data\\P11\\40.png\n",
      "C:\\Users\\ankur\\OneDrive\\Desktop\\image data\\P11\\41.png\n",
      "C:\\Users\\ankur\\OneDrive\\Desktop\\image data\\P11\\42.png\n",
      "C:\\Users\\ankur\\OneDrive\\Desktop\\image data\\P11\\43.png\n",
      "C:\\Users\\ankur\\OneDrive\\Desktop\\image data\\P11\\44.png\n",
      "C:\\Users\\ankur\\OneDrive\\Desktop\\image data\\P11\\45.png\n",
      "C:\\Users\\ankur\\OneDrive\\Desktop\\image data\\P11\\46.png\n",
      "C:\\Users\\ankur\\OneDrive\\Desktop\\image data\\P11\\47.png\n",
      "C:\\Users\\ankur\\OneDrive\\Desktop\\image data\\P11\\48.png\n",
      "C:\\Users\\ankur\\OneDrive\\Desktop\\image data\\P11\\49.png\n",
      "C:\\Users\\ankur\\OneDrive\\Desktop\\image data\\P11\\5.png\n",
      "C:\\Users\\ankur\\OneDrive\\Desktop\\image data\\P11\\50.png\n",
      "C:\\Users\\ankur\\OneDrive\\Desktop\\image data\\P11\\6.png\n",
      "C:\\Users\\ankur\\OneDrive\\Desktop\\image data\\P11\\7.png\n",
      "C:\\Users\\ankur\\OneDrive\\Desktop\\image data\\P11\\8.png\n",
      "C:\\Users\\ankur\\OneDrive\\Desktop\\image data\\P11\\9.png\n"
     ]
    }
   ],
   "source": [
    "for p in path:\n",
    "    print(p)\n",
    "    img = cv2.imread(p)\n",
    "    gray = cv2.cvtColor(img, cv2.COLOR_BGR2GRAY)\n",
    "    \n",
    "    face_cascade = cv2.CascadeClassifier('haarcascade_frontalface_default.xml')\n",
    "    faces = face_cascade.detectMultiScale(gray, 1.1, 1)\n",
    "    for (x, y, w, h) in faces:\n",
    "        cv2.rectangle(img, (x, y), (x+w, y+h), (0, 0, 255), 2)\n",
    "        faces = img[y:y + h, x:x + w]\n",
    "        suffix = p.split('\\\\')\n",
    "        direction = suffix[-1].split('.')[-2]\n",
    "        name = 'face_'+direction+'.jpg'\n",
    "        cv2.imwrite(os.path.join('\\\\'.join(suffix[:-1]) , name), faces)\n",
    "    cv2.waitKey()\n",
    "    "
   ]
  },
  {
   "cell_type": "code",
   "execution_count": null,
   "id": "5c5bb536",
   "metadata": {
    "scrolled": true
   },
   "outputs": [],
   "source": []
  },
  {
   "cell_type": "code",
   "execution_count": null,
   "id": "895ac06d",
   "metadata": {},
   "outputs": [],
   "source": []
  }
 ],
 "metadata": {
  "kernelspec": {
   "display_name": "Python 3 (ipykernel)",
   "language": "python",
   "name": "python3"
  },
  "language_info": {
   "codemirror_mode": {
    "name": "ipython",
    "version": 3
   },
   "file_extension": ".py",
   "mimetype": "text/x-python",
   "name": "python",
   "nbconvert_exporter": "python",
   "pygments_lexer": "ipython3",
   "version": "3.9.12"
  }
 },
 "nbformat": 4,
 "nbformat_minor": 5
}
