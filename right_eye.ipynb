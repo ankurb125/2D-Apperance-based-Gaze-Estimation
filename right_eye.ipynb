{
 "cells": [
  {
   "cell_type": "code",
   "execution_count": 10,
   "id": "ec593cef",
   "metadata": {},
   "outputs": [],
   "source": [
    "import glob\n",
    "import cv2\n",
    "import os"
   ]
  },
  {
   "cell_type": "code",
   "execution_count": 39,
   "id": "a192d6c5",
   "metadata": {
    "scrolled": true
   },
   "outputs": [
    {
     "data": {
      "text/plain": [
       "['C:\\\\Users\\\\ankur\\\\OneDrive\\\\Desktop\\\\image data\\\\P10\\\\1.png',\n",
       " 'C:\\\\Users\\\\ankur\\\\OneDrive\\\\Desktop\\\\image data\\\\P10\\\\10.png',\n",
       " 'C:\\\\Users\\\\ankur\\\\OneDrive\\\\Desktop\\\\image data\\\\P10\\\\11.png',\n",
       " 'C:\\\\Users\\\\ankur\\\\OneDrive\\\\Desktop\\\\image data\\\\P10\\\\12.png',\n",
       " 'C:\\\\Users\\\\ankur\\\\OneDrive\\\\Desktop\\\\image data\\\\P10\\\\13.png',\n",
       " 'C:\\\\Users\\\\ankur\\\\OneDrive\\\\Desktop\\\\image data\\\\P10\\\\14.png',\n",
       " 'C:\\\\Users\\\\ankur\\\\OneDrive\\\\Desktop\\\\image data\\\\P10\\\\15.png',\n",
       " 'C:\\\\Users\\\\ankur\\\\OneDrive\\\\Desktop\\\\image data\\\\P10\\\\16.png',\n",
       " 'C:\\\\Users\\\\ankur\\\\OneDrive\\\\Desktop\\\\image data\\\\P10\\\\17.png',\n",
       " 'C:\\\\Users\\\\ankur\\\\OneDrive\\\\Desktop\\\\image data\\\\P10\\\\18.png',\n",
       " 'C:\\\\Users\\\\ankur\\\\OneDrive\\\\Desktop\\\\image data\\\\P10\\\\19.png',\n",
       " 'C:\\\\Users\\\\ankur\\\\OneDrive\\\\Desktop\\\\image data\\\\P10\\\\2.png',\n",
       " 'C:\\\\Users\\\\ankur\\\\OneDrive\\\\Desktop\\\\image data\\\\P10\\\\20.png',\n",
       " 'C:\\\\Users\\\\ankur\\\\OneDrive\\\\Desktop\\\\image data\\\\P10\\\\21.png',\n",
       " 'C:\\\\Users\\\\ankur\\\\OneDrive\\\\Desktop\\\\image data\\\\P10\\\\22.png',\n",
       " 'C:\\\\Users\\\\ankur\\\\OneDrive\\\\Desktop\\\\image data\\\\P10\\\\23.png',\n",
       " 'C:\\\\Users\\\\ankur\\\\OneDrive\\\\Desktop\\\\image data\\\\P10\\\\24.png',\n",
       " 'C:\\\\Users\\\\ankur\\\\OneDrive\\\\Desktop\\\\image data\\\\P10\\\\25.png',\n",
       " 'C:\\\\Users\\\\ankur\\\\OneDrive\\\\Desktop\\\\image data\\\\P10\\\\26.png',\n",
       " 'C:\\\\Users\\\\ankur\\\\OneDrive\\\\Desktop\\\\image data\\\\P10\\\\27.png',\n",
       " 'C:\\\\Users\\\\ankur\\\\OneDrive\\\\Desktop\\\\image data\\\\P10\\\\28.png',\n",
       " 'C:\\\\Users\\\\ankur\\\\OneDrive\\\\Desktop\\\\image data\\\\P10\\\\29.png',\n",
       " 'C:\\\\Users\\\\ankur\\\\OneDrive\\\\Desktop\\\\image data\\\\P10\\\\3.png',\n",
       " 'C:\\\\Users\\\\ankur\\\\OneDrive\\\\Desktop\\\\image data\\\\P10\\\\30.png',\n",
       " 'C:\\\\Users\\\\ankur\\\\OneDrive\\\\Desktop\\\\image data\\\\P10\\\\31.png',\n",
       " 'C:\\\\Users\\\\ankur\\\\OneDrive\\\\Desktop\\\\image data\\\\P10\\\\32.png',\n",
       " 'C:\\\\Users\\\\ankur\\\\OneDrive\\\\Desktop\\\\image data\\\\P10\\\\33.png',\n",
       " 'C:\\\\Users\\\\ankur\\\\OneDrive\\\\Desktop\\\\image data\\\\P10\\\\34.png',\n",
       " 'C:\\\\Users\\\\ankur\\\\OneDrive\\\\Desktop\\\\image data\\\\P10\\\\35.png',\n",
       " 'C:\\\\Users\\\\ankur\\\\OneDrive\\\\Desktop\\\\image data\\\\P10\\\\36.png',\n",
       " 'C:\\\\Users\\\\ankur\\\\OneDrive\\\\Desktop\\\\image data\\\\P10\\\\37.png',\n",
       " 'C:\\\\Users\\\\ankur\\\\OneDrive\\\\Desktop\\\\image data\\\\P10\\\\38.png',\n",
       " 'C:\\\\Users\\\\ankur\\\\OneDrive\\\\Desktop\\\\image data\\\\P10\\\\39.png',\n",
       " 'C:\\\\Users\\\\ankur\\\\OneDrive\\\\Desktop\\\\image data\\\\P10\\\\4.png',\n",
       " 'C:\\\\Users\\\\ankur\\\\OneDrive\\\\Desktop\\\\image data\\\\P10\\\\40.png',\n",
       " 'C:\\\\Users\\\\ankur\\\\OneDrive\\\\Desktop\\\\image data\\\\P10\\\\41.png',\n",
       " 'C:\\\\Users\\\\ankur\\\\OneDrive\\\\Desktop\\\\image data\\\\P10\\\\42.png',\n",
       " 'C:\\\\Users\\\\ankur\\\\OneDrive\\\\Desktop\\\\image data\\\\P10\\\\43.png',\n",
       " 'C:\\\\Users\\\\ankur\\\\OneDrive\\\\Desktop\\\\image data\\\\P10\\\\44.png',\n",
       " 'C:\\\\Users\\\\ankur\\\\OneDrive\\\\Desktop\\\\image data\\\\P10\\\\45.png',\n",
       " 'C:\\\\Users\\\\ankur\\\\OneDrive\\\\Desktop\\\\image data\\\\P10\\\\46.png',\n",
       " 'C:\\\\Users\\\\ankur\\\\OneDrive\\\\Desktop\\\\image data\\\\P10\\\\47.png',\n",
       " 'C:\\\\Users\\\\ankur\\\\OneDrive\\\\Desktop\\\\image data\\\\P10\\\\48.png',\n",
       " 'C:\\\\Users\\\\ankur\\\\OneDrive\\\\Desktop\\\\image data\\\\P10\\\\49.png',\n",
       " 'C:\\\\Users\\\\ankur\\\\OneDrive\\\\Desktop\\\\image data\\\\P10\\\\5.png',\n",
       " 'C:\\\\Users\\\\ankur\\\\OneDrive\\\\Desktop\\\\image data\\\\P10\\\\50.png',\n",
       " 'C:\\\\Users\\\\ankur\\\\OneDrive\\\\Desktop\\\\image data\\\\P10\\\\6.png',\n",
       " 'C:\\\\Users\\\\ankur\\\\OneDrive\\\\Desktop\\\\image data\\\\P10\\\\7.png',\n",
       " 'C:\\\\Users\\\\ankur\\\\OneDrive\\\\Desktop\\\\image data\\\\P10\\\\8.png',\n",
       " 'C:\\\\Users\\\\ankur\\\\OneDrive\\\\Desktop\\\\image data\\\\P10\\\\9.png']"
      ]
     },
     "execution_count": 39,
     "metadata": {},
     "output_type": "execute_result"
    }
   ],
   "source": [
    "path = sorted(glob.glob(r'C:\\Users\\ankur\\OneDrive\\Desktop\\image data\\P10\\*.png'))\n",
    "# path = [path]\n",
    "path"
   ]
  },
  {
   "cell_type": "code",
   "execution_count": 42,
   "id": "34f4bf03",
   "metadata": {},
   "outputs": [
    {
     "name": "stdout",
     "output_type": "stream",
     "text": [
      "C:\\Users\\ankur\\OneDrive\\Desktop\\image data\\P10\\1.png\n",
      "C:\\Users\\ankur\\OneDrive\\Desktop\\image data\\P10\\10.png\n",
      "C:\\Users\\ankur\\OneDrive\\Desktop\\image data\\P10\\11.png\n",
      "C:\\Users\\ankur\\OneDrive\\Desktop\\image data\\P10\\12.png\n",
      "C:\\Users\\ankur\\OneDrive\\Desktop\\image data\\P10\\13.png\n",
      "C:\\Users\\ankur\\OneDrive\\Desktop\\image data\\P10\\14.png\n",
      "C:\\Users\\ankur\\OneDrive\\Desktop\\image data\\P10\\15.png\n",
      "C:\\Users\\ankur\\OneDrive\\Desktop\\image data\\P10\\16.png\n",
      "C:\\Users\\ankur\\OneDrive\\Desktop\\image data\\P10\\17.png\n",
      "C:\\Users\\ankur\\OneDrive\\Desktop\\image data\\P10\\18.png\n",
      "C:\\Users\\ankur\\OneDrive\\Desktop\\image data\\P10\\19.png\n",
      "C:\\Users\\ankur\\OneDrive\\Desktop\\image data\\P10\\2.png\n",
      "C:\\Users\\ankur\\OneDrive\\Desktop\\image data\\P10\\20.png\n",
      "C:\\Users\\ankur\\OneDrive\\Desktop\\image data\\P10\\21.png\n",
      "C:\\Users\\ankur\\OneDrive\\Desktop\\image data\\P10\\22.png\n",
      "C:\\Users\\ankur\\OneDrive\\Desktop\\image data\\P10\\23.png\n",
      "C:\\Users\\ankur\\OneDrive\\Desktop\\image data\\P10\\24.png\n",
      "C:\\Users\\ankur\\OneDrive\\Desktop\\image data\\P10\\25.png\n",
      "C:\\Users\\ankur\\OneDrive\\Desktop\\image data\\P10\\26.png\n",
      "C:\\Users\\ankur\\OneDrive\\Desktop\\image data\\P10\\27.png\n",
      "C:\\Users\\ankur\\OneDrive\\Desktop\\image data\\P10\\28.png\n",
      "C:\\Users\\ankur\\OneDrive\\Desktop\\image data\\P10\\29.png\n",
      "C:\\Users\\ankur\\OneDrive\\Desktop\\image data\\P10\\3.png\n",
      "C:\\Users\\ankur\\OneDrive\\Desktop\\image data\\P10\\30.png\n",
      "C:\\Users\\ankur\\OneDrive\\Desktop\\image data\\P10\\31.png\n",
      "C:\\Users\\ankur\\OneDrive\\Desktop\\image data\\P10\\32.png\n",
      "C:\\Users\\ankur\\OneDrive\\Desktop\\image data\\P10\\33.png\n",
      "C:\\Users\\ankur\\OneDrive\\Desktop\\image data\\P10\\34.png\n",
      "C:\\Users\\ankur\\OneDrive\\Desktop\\image data\\P10\\35.png\n",
      "C:\\Users\\ankur\\OneDrive\\Desktop\\image data\\P10\\36.png\n",
      "C:\\Users\\ankur\\OneDrive\\Desktop\\image data\\P10\\37.png\n",
      "C:\\Users\\ankur\\OneDrive\\Desktop\\image data\\P10\\38.png\n",
      "C:\\Users\\ankur\\OneDrive\\Desktop\\image data\\P10\\39.png\n",
      "C:\\Users\\ankur\\OneDrive\\Desktop\\image data\\P10\\4.png\n",
      "C:\\Users\\ankur\\OneDrive\\Desktop\\image data\\P10\\40.png\n",
      "C:\\Users\\ankur\\OneDrive\\Desktop\\image data\\P10\\41.png\n",
      "C:\\Users\\ankur\\OneDrive\\Desktop\\image data\\P10\\42.png\n",
      "C:\\Users\\ankur\\OneDrive\\Desktop\\image data\\P10\\43.png\n",
      "C:\\Users\\ankur\\OneDrive\\Desktop\\image data\\P10\\44.png\n",
      "C:\\Users\\ankur\\OneDrive\\Desktop\\image data\\P10\\45.png\n",
      "C:\\Users\\ankur\\OneDrive\\Desktop\\image data\\P10\\46.png\n",
      "C:\\Users\\ankur\\OneDrive\\Desktop\\image data\\P10\\47.png\n",
      "C:\\Users\\ankur\\OneDrive\\Desktop\\image data\\P10\\48.png\n",
      "C:\\Users\\ankur\\OneDrive\\Desktop\\image data\\P10\\49.png\n",
      "C:\\Users\\ankur\\OneDrive\\Desktop\\image data\\P10\\5.png\n",
      "C:\\Users\\ankur\\OneDrive\\Desktop\\image data\\P10\\50.png\n",
      "C:\\Users\\ankur\\OneDrive\\Desktop\\image data\\P10\\6.png\n",
      "C:\\Users\\ankur\\OneDrive\\Desktop\\image data\\P10\\7.png\n",
      "C:\\Users\\ankur\\OneDrive\\Desktop\\image data\\P10\\8.png\n",
      "C:\\Users\\ankur\\OneDrive\\Desktop\\image data\\P10\\9.png\n"
     ]
    }
   ],
   "source": [
    "for p in path:\n",
    "    print(p)\n",
    "    img = cv2.imread(p)\n",
    "    gray = cv2.cvtColor(img, cv2.COLOR_BGR2GRAY)\n",
    "    \n",
    "    right_eye_cascade = cv2.CascadeClassifier('haarcascade_righteye_2splits.xml')\n",
    "    right_eye = right_eye_cascade.detectMultiScale(gray, 1.1, 2)\n",
    "    for (x, y, w, h) in right_eye:\n",
    "        cv2.rectangle(img, (x, y), (x+w, y+h), (0, 0, 255), 2)\n",
    "        right_eye = img[y:y + h, x:x + w]\n",
    "        suffix = p.split('\\\\')\n",
    "        direction = suffix[-1].split('.')[-2]\n",
    "        name = 'right_eye_'+direction+'.jpg'\n",
    "        cv2.imwrite(os.path.join('\\\\'.join(suffix[:-1]) , name), right_eye)\n",
    "    cv2.waitKey()"
   ]
  },
  {
   "cell_type": "code",
   "execution_count": null,
   "id": "dc1f98b5",
   "metadata": {},
   "outputs": [],
   "source": []
  }
 ],
 "metadata": {
  "kernelspec": {
   "display_name": "Python 3 (ipykernel)",
   "language": "python",
   "name": "python3"
  },
  "language_info": {
   "codemirror_mode": {
    "name": "ipython",
    "version": 3
   },
   "file_extension": ".py",
   "mimetype": "text/x-python",
   "name": "python",
   "nbconvert_exporter": "python",
   "pygments_lexer": "ipython3",
   "version": "3.9.12"
  }
 },
 "nbformat": 4,
 "nbformat_minor": 5
}
